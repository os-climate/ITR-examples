{
 "cells": [
  {
   "cell_type": "markdown",
   "id": "e3c5c7d5-63e0-47a5-ac4a-bb58beb98995",
   "metadata": {},
   "source": [
    "# Data Vault Demo (Cleanup)\n",
    "\n",
    "Clean up tables created by Data Vault Demo\n",
    "\n",
    "Only table creators can drop tables, so we need to instantiate the engines that created the tables..."
   ]
  },
  {
   "cell_type": "code",
   "execution_count": 1,
   "id": "d1ab75f1-dc99-422d-b15b-ce043e32fff8",
   "metadata": {},
   "outputs": [
    {
     "name": "stdout",
     "output_type": "stream",
     "text": [
      "Cleaning up Dev tables\n"
     ]
    }
   ],
   "source": [
    "import osc_ingest_trino as osc\n",
    "\n",
    "ingest_catalog = \"osc_datacommons_dev\"\n",
    "ingest_schema = \"demo_dv\"\n",
    "itr_prefix = \"itr_\"\n",
    "\n",
    "osc.load_credentials_dotenv()\n",
    "\n",
    "print(\"Cleaning up Dev tables\")"
   ]
  },
  {
   "cell_type": "raw",
   "id": "b3154b10-a9d4-45e2-9329-93098ac3b1b2",
   "metadata": {},
   "source": [
    "# This initializes the \"Data Vault USER1\" Trino developer's engine\n",
    "\n",
    "sqlstring = 'trino://{user}@{host}:{port}/'.format(\n",
    "    user = os.environ['TRINO_USER_USER1'],\n",
    "    host = os.environ['TRINO_HOST'],\n",
    "    port = os.environ['TRINO_PORT']\n",
    ")\n",
    "\n",
    "sqlstring = f\"trino://{os.environ['TRINO_USER']}@{os.environ['TRINO_HOST']}:{os.environ['TRINO_PORT']}/\"\n",
    "sqlargs = {\n",
    "    'auth': trino.auth.JWTAuthentication(os.environ['TRINO_PASSWD_USER1']),\n",
    "    'http_scheme': 'https',\n",
    "    'catalog': ingest_catalog,\n",
    "    'schema': ingest_schema,\n",
    "}\n",
    "engine_dev = create_engine(sqlstring, connect_args = sqlargs)"
   ]
  },
  {
   "cell_type": "markdown",
   "id": "a6b350ef-f3a0-4e59-9885-d6c830b040b3",
   "metadata": {},
   "source": [
    "The ITR Data Pipeline creates these tables.  We should not delete this data unless we created them as TRINO_USER1 as part of the construction of the vault."
   ]
  },
  {
   "cell_type": "code",
   "execution_count": 2,
   "id": "6cfbc8a9-aa36-4b40-ae6d-7f0a91785855",
   "metadata": {},
   "outputs": [
    {
     "name": "stdout",
     "output_type": "stream",
     "text": [
      "using connect string: trino://MichaelTiemannOSC@trino-secure-odh-trino.apps.odh-cl2.apps.os-climate.org:443/osc_datacommons_dev/demo_dv\n"
     ]
    }
   ],
   "source": [
    "engine_dev = osc.attach_trino_engine(\n",
    "    verbose=True, catalog=ingest_catalog, schema=ingest_schema\n",
    ")"
   ]
  },
  {
   "cell_type": "code",
   "execution_count": 3,
   "id": "c08955d7-253e-42f3-b19a-e31c1c1e4b97",
   "metadata": {},
   "outputs": [
    {
     "name": "stdout",
     "output_type": "stream",
     "text": [
      "show tables in demo_dv\n",
      "[('itr_benchmark_ei',), ('itr_benchmark_prod',), ('itr_company_data',), ('itr_cumulative_budgets',), ('itr_cumulative_emissions',), ('itr_overshoot_ratios',), ('itr_production_data',), ('itr_target_data',), ('itr_temperature_scores',), ('itr_trajectory_data',)]\n"
     ]
    }
   ],
   "source": [
    "qres = osc._do_sql(f\"show tables in {ingest_schema}\", engine_dev, verbose=True)"
   ]
  },
  {
   "cell_type": "code",
   "execution_count": 4,
   "id": "7cc2455f-1eed-42ac-8d05-8da4af590ad2",
   "metadata": {},
   "outputs": [
    {
     "name": "stdout",
     "output_type": "stream",
     "text": [
      "drop table if exists itr_fundamental_data\n",
      "drop table if exists itr_company_data\n",
      "drop table if exists itr_cumulative_budgets\n",
      "drop table if exists itr_cumulative_emissions\n",
      "drop table if exists itr_emissions_data\n",
      "drop table if exists itr_production_data\n",
      "drop table if exists itr_target_data\n",
      "drop table if exists itr_trajectory_data\n",
      "drop table if exists itr_projected_production\n",
      "drop table if exists itr_projected_ei_in_wh\n",
      "drop table if exists itr_projected_target\n"
     ]
    }
   ],
   "source": [
    "for table in [\n",
    "    \"fundamental_data\",\n",
    "    \"company_data\",\n",
    "    \"cumulative_budgets\",\n",
    "    \"cumulative_emissions\",\n",
    "    \"emissions_data\",\n",
    "    \"production_data\",\n",
    "    \"target_data\",\n",
    "    \"trajectory_data\",\n",
    "    \"projected_production\",\n",
    "    \"projected_ei_in_wh\",\n",
    "    \"projected_target\",\n",
    "]:\n",
    "    osc._do_sql(f\"drop table if exists {itr_prefix}{table}\", engine_dev, verbose=True)"
   ]
  },
  {
   "cell_type": "code",
   "execution_count": 5,
   "id": "a6832b10-ea33-464b-a061-043757fe16d0",
   "metadata": {},
   "outputs": [
    {
     "name": "stdout",
     "output_type": "stream",
     "text": [
      "drop table if exists benchmark_ei\n",
      "drop table if exists itr_benchmark_ei\n",
      "drop table if exists benchmark_prod\n",
      "drop table if exists itr_benchmark_prod\n"
     ]
    }
   ],
   "source": [
    "for table in [\"benchmark_ei\", \"benchmark_prod\"]:\n",
    "    osc._do_sql(f\"drop table if exists {table}\", engine_dev, verbose=True)\n",
    "    osc._do_sql(f\"drop table if exists {itr_prefix}{table}\", engine_dev, verbose=True)"
   ]
  },
  {
   "cell_type": "raw",
   "id": "ec58b26e-ce8b-410c-8c50-a3b1f4a23eaa",
   "metadata": {},
   "source": [
    "print(\"Cleaning up Quant tables\")\n",
    "\n",
    "sqlstring = \"trino://{user}@{host}:{port}/\".format(\n",
    "    user=os.environ[\"TRINO_USER_USER2\"], host=os.environ[\"TRINO_HOST\"], port=os.environ[\"TRINO_PORT\"]\n",
    ")\n",
    "\n",
    "ingest_catalog = \"osc_datacommons_dev\"\n",
    "ingest_schema = \"demo_dv\"\n",
    "\n",
    "sqlargs = {\n",
    "    \"auth\": trino.auth.JWTAuthentication(os.environ[\"TRINO_PASSWD_USER2\"]),\n",
    "    \"http_scheme\": \"https\",\n",
    "    \"catalog\": ingest_catalog,\n",
    "    \"schema\": ingest_schema,\n",
    "}\n",
    "\n",
    "engine_quant = create_engine(sqlstring, connect_args=sqlargs)\n",
    "print(\"connecting with engine \" + str(engine_quant))\n",
    "qres = osc._do_sql(f\"show tables in {ingest_schema}\", engine_quant, verbose=True)"
   ]
  },
  {
   "cell_type": "code",
   "execution_count": 6,
   "id": "a4d4478e-997c-4641-9d4f-f4588318b90f",
   "metadata": {},
   "outputs": [
    {
     "name": "stdout",
     "output_type": "stream",
     "text": [
      "drop table if exists itr_overshoot_ratios\n",
      "drop table if exists overshoot_ratios\n",
      "drop table if exists itr_temperature_scores\n",
      "drop table if exists temperature_scores\n",
      "show tables in demo_dv\n",
      "[]\n"
     ]
    }
   ],
   "source": [
    "engine_quant = engine_dev\n",
    "\n",
    "for table in [\"overshoot_ratios\", \"temperature_scores\"]:\n",
    "    osc._do_sql(f\"drop table if exists {itr_prefix}{table}\", engine_quant, verbose=True)\n",
    "    osc._do_sql(f\"drop table if exists {table}\", engine_quant, verbose=True)\n",
    "qres = osc._do_sql(f\"show tables in {ingest_schema}\", engine_quant, verbose=True)"
   ]
  },
  {
   "cell_type": "code",
   "execution_count": 7,
   "id": "96697928-5b47-4e5a-955c-5892f2311535",
   "metadata": {},
   "outputs": [],
   "source": [
    "assert len(qres) == 0"
   ]
  },
  {
   "cell_type": "code",
   "execution_count": null,
   "id": "4b0035a2-7cb8-458e-a0f3-183f25fe36ec",
   "metadata": {},
   "outputs": [],
   "source": []
  }
 ],
 "metadata": {
  "kernelspec": {
   "display_name": "Python 3 (ipykernel)",
   "language": "python",
   "name": "python3"
  },
  "language_info": {
   "codemirror_mode": {
    "name": "ipython",
    "version": 3
   },
   "file_extension": ".py",
   "mimetype": "text/x-python",
   "name": "python",
   "nbconvert_exporter": "python",
   "pygments_lexer": "ipython3",
   "version": "3.11.4"
  }
 },
 "nbformat": 4,
 "nbformat_minor": 5
}
