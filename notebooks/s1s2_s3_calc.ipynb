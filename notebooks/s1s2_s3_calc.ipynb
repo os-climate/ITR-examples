{
 "cells": [
  {
   "cell_type": "markdown",
   "metadata": {
    "tags": []
   },
   "source": [
    "# S1S2 / S3 Temperature Score Calculation\n",
    "\n",
    "This notebook provides a comparison between temparature calculation for scopes S1S2 and S3"
   ]
  },
  {
   "cell_type": "markdown",
   "metadata": {
    "tags": []
   },
   "source": [
    "## Getting started\n",
    "Make sure you are running the notebook with the requirements installed available in the example folder.\n",
    "\n",
    "If you see errors when attempting to load the ITR modules, go to the top-level ITR directory, activate the `itr_env` conda environment (using `conda activate itr_env` and execute the command `pip install -e .`.  Then try again, or hit the <i class=\"fas fa-forward\"></i> button above."
   ]
  },
  {
   "cell_type": "code",
   "execution_count": null,
   "metadata": {},
   "outputs": [],
   "source": [
    "import os\n",
    "import warnings"
   ]
  },
  {
   "cell_type": "markdown",
   "metadata": {
    "tags": []
   },
   "source": [
    "If all is well, the list of paths below will prioritize loading from the environment established for the ITR tool.  Please contact us if not."
   ]
  },
  {
   "cell_type": "code",
   "execution_count": null,
   "metadata": {
    "tags": []
   },
   "outputs": [],
   "source": [
    "# Load the ITR library files\n",
    "\n",
    "import ITR\n",
    "from ITR import data_dir\n",
    "from ITR.data.template import TemplateProviderCompany\n",
    "from ITR.data.base_providers import (\n",
    "    BaseProviderProductionBenchmark,\n",
    "    BaseProviderIntensityBenchmark,\n",
    ")\n",
    "from ITR.data.data_warehouse import DataWarehouse\n",
    "from ITR.portfolio_aggregation import PortfolioAggregationMethod\n",
    "from ITR.temperature_score import TemperatureScore\n",
    "from ITR.interfaces import (\n",
    "    ETimeFrames,\n",
    "    EScope,\n",
    "    IProductionBenchmarkScopes,\n",
    "    IEIBenchmarkScopes,\n",
    ")\n",
    "import pandas as pd\n",
    "\n",
    "from ITR.data.osc_units import ureg, requantify_df_from_columns"
   ]
  },
  {
   "cell_type": "code",
   "execution_count": null,
   "metadata": {},
   "outputs": [],
   "source": [
    "print(\"Testing unit registry\\n=====================\")\n",
    "one_co2 = ureg(\"CO2e\")\n",
    "print(f\"The gas species CO2e, which was a gwp of 1: {one_co2}\")\n",
    "\n",
    "one_Gt_co2 = ureg(\"Gt CO2e\")\n",
    "print(f\"A gigaton of CO2e: {one_Gt_co2}\")"
   ]
  },
  {
   "cell_type": "markdown",
   "metadata": {},
   "source": [
    "## Load the production and intensity benchmarks\n",
    "\n",
    "Prepare the various benchmark files; the OECM benchmark is the default after the next cell finishes."
   ]
  },
  {
   "cell_type": "code",
   "execution_count": null,
   "metadata": {},
   "outputs": [],
   "source": [
    "import json\n",
    "\n",
    "benchmark_prod_json = os.path.join(data_dir, \"benchmark_production_OECM.json\")\n",
    "benchmark_EI_OECM_S1S2 = os.path.join(data_dir, \"benchmark_EI_OECM_PC.json\")\n",
    "benchmark_EI_OECM_S3 = os.path.join(data_dir, \"benchmark_EI_OECM_S3.json\")\n",
    "\n",
    "# load production benchmarks\n",
    "with open(benchmark_prod_json) as json_file:\n",
    "    parsed_json = json.load(json_file)\n",
    "prod_bms = IProductionBenchmarkScopes.model_validate(parsed_json)\n",
    "base_production_bm = BaseProviderProductionBenchmark(production_benchmarks=prod_bms)\n",
    "\n",
    "# load intensity benchmarks\n",
    "\n",
    "# OECM for scope S1S2\n",
    "with open(benchmark_EI_OECM_S1S2) as json_file:\n",
    "    parsed_json = json.load(json_file)\n",
    "ei_bms_s1s2 = IEIBenchmarkScopes.model_validate(parsed_json)\n",
    "OECM_EI_bm_s1s2 = BaseProviderIntensityBenchmark(EI_benchmarks=ei_bms_s1s2)\n",
    "\n",
    "# OECM for scope S3\n",
    "with open(benchmark_EI_OECM_S3) as json_file:\n",
    "    parsed_json = json.load(json_file)\n",
    "ei_bms_s3 = IEIBenchmarkScopes.model_validate(parsed_json)\n",
    "OECM_EI_bm_s3 = BaseProviderIntensityBenchmark(EI_benchmarks=ei_bms_s3)\n",
    "\n",
    "base_intensity_bm_s1s2 = OECM_EI_bm_s1s2\n",
    "base_intensity_bm_s3 = OECM_EI_bm_s3"
   ]
  },
  {
   "cell_type": "markdown",
   "metadata": {},
   "source": [
    "### Logging\n",
    "The ITR module uses the Python standard library logging utilities to send log messages. The log level can be changed according to the user's needs."
   ]
  },
  {
   "cell_type": "code",
   "execution_count": null,
   "metadata": {},
   "outputs": [],
   "source": [
    "import logging\n",
    "\n",
    "root_logger = logging.getLogger()\n",
    "root_logger.setLevel(\"INFO\")"
   ]
  },
  {
   "cell_type": "markdown",
   "metadata": {},
   "source": [
    "## Create a data provider"
   ]
  },
  {
   "cell_type": "code",
   "execution_count": null,
   "metadata": {},
   "outputs": [],
   "source": [
    "# Remove the # and space on the next line to point the template_data_path variable at your own data\n",
    "# template_data_path = \"data/your_template_here.xlsx\"\n",
    "\n",
    "template_data_path = os.path.abspath(\n",
    "    \"../src/ITR_examples/data/20220927 ITR V2 Sample Data.xlsx\"\n",
    ")\n",
    "template_company_data = TemplateProviderCompany(excel_path=template_data_path)"
   ]
  },
  {
   "cell_type": "markdown",
   "metadata": {},
   "source": [
    "## Create the Data Warehouse"
   ]
  },
  {
   "cell_type": "code",
   "execution_count": null,
   "metadata": {},
   "outputs": [],
   "source": [
    "template_company_data._companies[0].production_metric"
   ]
  },
  {
   "cell_type": "code",
   "execution_count": null,
   "metadata": {},
   "outputs": [],
   "source": [
    "print(\n",
    "    f\"S1S2:\\nBenchmark Temperature = {base_intensity_bm_s1s2.benchmark_temperature}\\n\\\n",
    "Benchmark Global Budget = {base_intensity_bm_s1s2.benchmark_global_budget}\\n\\\n",
    "AFOLU included = {base_intensity_bm_s1s2.is_AFOLU_included}\"\n",
    ")\n",
    "\n",
    "template_provider_s3 = DataWarehouse(\n",
    "    template_company_data, base_production_bm, base_intensity_bm_s3\n",
    ")\n",
    "print(\n",
    "    f\"S3:\\nBenchmark Temperature = {base_intensity_bm_s3.benchmark_temperature}\\n\\\n",
    "Benchmark Global Budget = {base_intensity_bm_s3.benchmark_global_budget}\\n\\\n",
    "AFOLU included = {base_intensity_bm_s3.is_AFOLU_included}\"\n",
    ")"
   ]
  },
  {
   "cell_type": "markdown",
   "metadata": {},
   "source": [
    "## Load your portfolio\n",
    "\n",
    "The portfolio data is a sheet in the Data Template named \"Portfolio\".\n",
    "\n",
    "Please see the technical documentation in the [Data Template Requirements](https://github.com/os-c/ITR/blob/main/docs/DataTemplateRequirements.rst) section for details on data requirements."
   ]
  },
  {
   "cell_type": "code",
   "execution_count": null,
   "metadata": {},
   "outputs": [],
   "source": [
    "df_portfolio = requantify_df_from_columns(\n",
    "    pd.read_excel(template_data_path, sheet_name=\"Portfolio\")\n",
    ")\n",
    "display(df_portfolio.tail())"
   ]
  },
  {
   "cell_type": "markdown",
   "metadata": {},
   "source": [
    "To load the data from the data provider, we have to pass a list of IPortfolioCompany instances. The module has a strict [data model](https://ofbdabv.github.io/ITR/autoapi/ITR/interfaces/index.html) to convert Pandas Dataframe to the right object types we supplied a utility function.\n"
   ]
  },
  {
   "cell_type": "code",
   "execution_count": null,
   "metadata": {},
   "outputs": [],
   "source": [
    "companies = ITR.utils.dataframe_to_portfolio(df_portfolio)"
   ]
  },
  {
   "cell_type": "markdown",
   "metadata": {},
   "source": [
    "## Calculate the temperature scores\n",
    "In the enhanced portfolio you'll find your original portfolio, with calculated temperature scores, trajectory and target scores and overshoot/undershoot ration, and a temperature_result which is current set to zero for all valid calculations."
   ]
  },
  {
   "cell_type": "code",
   "execution_count": null,
   "metadata": {},
   "outputs": [],
   "source": [
    "template_provider = DataWarehouse(\n",
    "    template_company_data, base_production_bm, base_intensity_bm_s1s2\n",
    ")\n",
    "temperature_score_s1s2 = TemperatureScore(\n",
    "    time_frames=[ETimeFrames.LONG],\n",
    "    scopes=[EScope.S1S2],\n",
    "    aggregation_method=PortfolioAggregationMethod.WATS,  # Options for the aggregation method are WATS, TETS, AOTS, MOTS, EOTS, ECOTS, and ROTS.\n",
    ")\n",
    "enhanced_portfolio_s1s2 = temperature_score_s1s2.calculate(\n",
    "    data_warehouse=template_provider, portfolio=companies\n",
    ")\n",
    "\n",
    "temperature_score_s3 = TemperatureScore(\n",
    "    time_frames=[ETimeFrames.LONG],\n",
    "    scopes=[EScope.S3],\n",
    "    aggregation_method=PortfolioAggregationMethod.WATS,  # Options for the aggregation method are WATS, TETS, AOTS, MOTS, EOTS, ECOTS, and ROTS.\n",
    ")\n",
    "template_provider.update_benchmarks(base_production_bm, base_intensity_bm_s3)\n",
    "enhanced_portfolio_s3 = temperature_score_s3.calculate(\n",
    "    data_warehouse=template_provider, portfolio=companies\n",
    ")"
   ]
  },
  {
   "cell_type": "markdown",
   "metadata": {},
   "source": [
    "For every company the tool assigns a score for all the requested timeframe and scope combinations."
   ]
  },
  {
   "cell_type": "code",
   "execution_count": null,
   "metadata": {},
   "outputs": [],
   "source": [
    "with warnings.catch_warnings():\n",
    "    warnings.simplefilter(\"ignore\")\n",
    "    display(\n",
    "        enhanced_portfolio_s1s2[\n",
    "            [\"company_name\", \"time_frame\", \"scope\", \"temperature_score\"]\n",
    "        ]\n",
    "    )"
   ]
  },
  {
   "cell_type": "code",
   "execution_count": null,
   "metadata": {},
   "outputs": [],
   "source": [
    "with warnings.catch_warnings():\n",
    "    warnings.simplefilter(\"ignore\")\n",
    "    display(\n",
    "        enhanced_portfolio_s3[\n",
    "            [\"company_name\", \"time_frame\", \"scope\", \"temperature_score\"]\n",
    "        ]\n",
    "    )"
   ]
  },
  {
   "cell_type": "code",
   "execution_count": null,
   "metadata": {},
   "outputs": [],
   "source": []
  }
 ],
 "metadata": {
  "kernelspec": {
   "display_name": "Python 3 (ipykernel)",
   "language": "python",
   "name": "python3"
  },
  "language_info": {
   "codemirror_mode": {
    "name": "ipython",
    "version": 3
   },
   "file_extension": ".py",
   "mimetype": "text/x-python",
   "name": "python",
   "nbconvert_exporter": "python",
   "pygments_lexer": "ipython3",
   "version": "3.11.5"
  }
 },
 "nbformat": 4,
 "nbformat_minor": 4
}
