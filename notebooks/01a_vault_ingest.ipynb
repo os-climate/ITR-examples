{
 "cells": [
  {
   "cell_type": "code",
   "execution_count": 1,
   "id": "3347d3ec-10a7-4321-a5e6-9b1665e5dfdb",
   "metadata": {},
   "outputs": [],
   "source": [
    "# pip install boto3 python-dotenv openpyxl"
   ]
  },
  {
   "cell_type": "code",
   "execution_count": 2,
   "id": "d1ab75f1-dc99-422d-b15b-ce043e32fff8",
   "metadata": {},
   "outputs": [],
   "source": [
    "import os\n",
    "import pathlib\n",
    "from dotenv import load_dotenv\n",
    "import boto3\n",
    "\n",
    "import pandas as pd\n",
    "import osc_ingest_trino as osc\n",
    "import trino\n",
    "from sqlalchemy.engine import create_engine\n",
    "\n",
    "# Load some standard environment variables from a dot-env file, if it exists.\n",
    "# If no such file can be found, does not fail, and so allows these environment vars to\n",
    "# be populated in some other way\n",
    "dotenv_dir = os.environ.get(\n",
    "    \"CREDENTIAL_DOTENV_DIR\", os.environ.get(\"PWD\", \"/opt/app-root/src\")\n",
    ")\n",
    "dotenv_path = pathlib.Path(dotenv_dir) / \"credentials.env\"\n",
    "if os.path.exists(dotenv_path):\n",
    "    load_dotenv(dotenv_path=dotenv_path, override=True)"
   ]
  },
  {
   "cell_type": "code",
   "execution_count": 3,
   "id": "8cfad527-0cb6-4501-8748-0a5ef5087ed6",
   "metadata": {},
   "outputs": [
    {
     "name": "stdout",
     "output_type": "stream",
     "text": [
      "Initializing Dev tables\n",
      "connecting with engine Engine(trino://os-climate-user1@trino-secure-odh-trino.apps.odh-cl2.apps.os-climate.org:443/)\n",
      "show tables in demo_dv\n",
      "[]\n"
     ]
    }
   ],
   "source": [
    "print(\"Initializing Dev tables\")\n",
    "\n",
    "sqlstring = \"trino://{user}@{host}:{port}/\".format(\n",
    "    user=os.environ[\"TRINO_USER_USER1\"],\n",
    "    host=os.environ[\"TRINO_HOST\"],\n",
    "    port=os.environ[\"TRINO_PORT\"],\n",
    ")\n",
    "\n",
    "ingest_catalog = \"osc_datacommons_dev\"\n",
    "ingest_schema = \"demo_dv\"\n",
    "itr_prefix = \"itr_\"\n",
    "\n",
    "sqlargs = {\n",
    "    \"auth\": trino.auth.JWTAuthentication(os.environ[\"TRINO_PASSWD_USER1\"]),\n",
    "    \"http_scheme\": \"https\",\n",
    "    \"catalog\": ingest_catalog,\n",
    "    \"schema\": ingest_schema,\n",
    "}\n",
    "\n",
    "engine = create_engine(sqlstring, connect_args=sqlargs)\n",
    "print(\"connecting with engine \" + str(engine))\n",
    "qres = osc._do_sql(f\"show tables in {ingest_schema}\", engine, verbose=True)"
   ]
  },
  {
   "cell_type": "code",
   "execution_count": 4,
   "id": "246406b7-2cef-4fb7-bed5-6110aeec7fa1",
   "metadata": {},
   "outputs": [],
   "source": [
    "rename_year_columns = {}\n",
    "for y in range(2000, 2100):\n",
    "    rename_year_columns[str(y)] = \"y{yr}\".format(yr=y)\n",
    "# rename_year_columns"
   ]
  },
  {
   "cell_type": "markdown",
   "id": "66daa759-b4a8-46f1-ae97-3e4788d9cb2d",
   "metadata": {},
   "source": [
    "## Example `credentials.env` file\n",
    "\n",
    "```\n",
    "# s3 credentials\n",
    "S3_ENDPOINT=https://s3.us-east-1.amazonaws.com\n",
    "S3_BUCKET=ocp-odh-os-demo-s3\n",
    "S3_ACCESS_KEY=xxx\n",
    "S3_SECRET_KEY=xxx\n",
    "\n",
    "# trino credentials\n",
    "TRINO_USER=xxx\n",
    "TRINO_PASSWD=xxx\n",
    "TRINO_HOST=trino-secure-odh-trino.apps.odh-cl1.apps.os-climate.org\n",
    "TRINO_PORT=443\n",
    "```"
   ]
  },
  {
   "cell_type": "code",
   "execution_count": 5,
   "id": "e98a535e-08fc-47fb-bd83-23258088d7db",
   "metadata": {},
   "outputs": [],
   "source": [
    "# Create an S3 client\n",
    "s3 = boto3.client(\n",
    "    service_name=\"s3\",\n",
    "    endpoint_url=os.environ[\"DEMO1_S3_ENDPOINT\"],\n",
    "    aws_access_key_id=os.environ[\"DEMO1_S3_ACCESS_KEY\"],\n",
    "    aws_secret_access_key=os.environ[\"DEMO1_S3_SECRET_KEY\"],\n",
    ")"
   ]
  },
  {
   "cell_type": "markdown",
   "id": "92b350de-9ffe-4b29-930b-d398f1c82aec",
   "metadata": {},
   "source": [
    "## load xlsx file\n",
    "\n",
    "Loading directly from xlsx -> pandas yields cleaner data than attempting multiple translations:\n",
    "xlsx -> gsheet -> csv -> pandas"
   ]
  },
  {
   "cell_type": "code",
   "execution_count": 6,
   "id": "5e6e4326-89ec-4cde-9c71-48f49d6496ed",
   "metadata": {},
   "outputs": [
    {
     "data": {
      "text/plain": [
       "['fundamental_data',\n",
       " 'projected_target',\n",
       " 'projected_ei_in_Wh',\n",
       " 'projected_production']"
      ]
     },
     "execution_count": 6,
     "metadata": {},
     "output_type": "execute_result"
    }
   ],
   "source": [
    "# loading excel doesn't work from 'get_object' mode\n",
    "\n",
    "s3.download_file(\n",
    "    os.environ[\"DEMO1_S3_BUCKET\"],\n",
    "    \"itr-demo-data/ITR_company_data_minimum_required.xlsx\",\n",
    "    \"/tmp/t.xlsx\",\n",
    ")\n",
    "\n",
    "# load the raw file from the bucket\n",
    "xls = pd.ExcelFile(\"/tmp/t.xlsx\")\n",
    "xls.sheet_names"
   ]
  },
  {
   "cell_type": "markdown",
   "id": "dbd967da-09c6-4aaa-9ed7-73eaa760ef37",
   "metadata": {},
   "source": [
    "## ITR Fundamental Data"
   ]
  },
  {
   "cell_type": "code",
   "execution_count": 7,
   "id": "6024dd17-32fa-406b-b36a-9dd8c49a4e8f",
   "metadata": {},
   "outputs": [],
   "source": [
    "# this will be output trino table name\n",
    "tablename = f\"{itr_prefix}fundamental_data\"\n",
    "\n",
    "# get this sheet, and assess data types\n",
    "df = pd.read_excel(xls, \"fundamental_data\").convert_dtypes()\n",
    "\n",
    "# rename columns to forms that sql will handle\n",
    "osc.enforce_sql_column_names(df, inplace=True)\n",
    "df.rename(columns=rename_year_columns, inplace=True)"
   ]
  },
  {
   "cell_type": "code",
   "execution_count": 8,
   "id": "7dbbb8cc-889d-47a0-b4e7-ae2a83285168",
   "metadata": {},
   "outputs": [
    {
     "name": "stdout",
     "output_type": "stream",
     "text": [
      "<class 'pandas.core.frame.DataFrame'>\n",
      "RangeIndex: 35 entries, 0 to 34\n",
      "Data columns (total 16 columns):\n",
      " #   Column                    Non-Null Count  Dtype  \n",
      "---  ------                    --------------  -----  \n",
      " 0   company_name              31 non-null     string \n",
      " 1   company_id                31 non-null     string \n",
      " 2   isic                      0 non-null      Int64  \n",
      " 3   country                   31 non-null     string \n",
      " 4   region                    31 non-null     string \n",
      " 5   industry_level_1          0 non-null      Int64  \n",
      " 6   industry_level_2          0 non-null      Int64  \n",
      " 7   industry_level_3          0 non-null      Int64  \n",
      " 8   industry_level_4          0 non-null      Int64  \n",
      " 9   sector                    31 non-null     string \n",
      " 10  company_revenue           30 non-null     Float64\n",
      " 11  company_market_cap        30 non-null     Float64\n",
      " 12  company_enterprise_value  30 non-null     Float64\n",
      " 13  company_total_assets      30 non-null     Float64\n",
      " 14  company_cash_equivalents  30 non-null     Float64\n",
      " 15  target_probability        30 non-null     Float64\n",
      "dtypes: Float64(6), Int64(5), string(5)\n",
      "memory usage: 4.9 KB\n"
     ]
    }
   ],
   "source": [
    "# a way to examine the structure of a pandas data frame\n",
    "df.info(verbose=True)"
   ]
  },
  {
   "cell_type": "raw",
   "id": "4e1829bd-be3c-49bf-9dff-20bacdaac927",
   "metadata": {},
   "source": [
    "df.to_parquet('/tmp/{tname}.parquet'.format(tname=tablename), index=False)\n",
    "s3.upload_file(\n",
    "    Bucket=os.environ['DEMO1_S3_BUCKET'],\n",
    "    Key='trino/company_data/{tname}/{tname}.parquet'.format(tname=tablename),\n",
    "    Filename='/tmp/{tname}.parquet'.format(tname=tablename)\n",
    ")"
   ]
  },
  {
   "cell_type": "code",
   "execution_count": 9,
   "id": "720b20bb-3350-478b-b362-38b9d46150d7",
   "metadata": {},
   "outputs": [
    {
     "name": "stdout",
     "output_type": "stream",
     "text": [
      "drop table if exists osc_datacommons_dev.demo_dv.itr_fundamental_data\n"
     ]
    }
   ],
   "source": [
    "# For this demonstration example, we just recreate table from scratch each time.\n",
    "# in live data platform there will need to be policies and mechanisms for either\n",
    "# appending new data, or overwriting old data, or saving off conditioned by a versioning number\n",
    "# this is a data governance topic\n",
    "osc._do_sql(\n",
    "    f\"drop table if exists {ingest_catalog}.{ingest_schema}.{tablename}\",\n",
    "    engine,\n",
    "    verbose=True,\n",
    ")"
   ]
  },
  {
   "cell_type": "code",
   "execution_count": 10,
   "id": "cd26a9df-806e-488d-9920-39881fd7ce6a",
   "metadata": {},
   "outputs": [
    {
     "name": "stdout",
     "output_type": "stream",
     "text": [
      "constructed fully qualified table name as: \"demo_dv.itr_fundamental_data\"\n",
      "inserting 35 records\n",
      "  ('Company AG', 'US0079031078', NULL, 'United States', 'North America', NULL, NULL, NULL, NULL, 'Electricity Utilities', 20248547996.81425, 10464805624.288572, 20370723452.973633, 814618.2057245963, 4528467714.726761, 0.4285714285714285)\n",
      "  ('Company AH', 'US00724F1012', NULL, 'United States', 'North America', NULL, NULL, NULL, NULL, 'Electricity Utilities', 276185899.614351, 170431377.0111033, 348843699.94010025, 27314.648029499283, 69006940.99809252, 0.4285714285714285)\n",
      "  ('Company AI', 'FR0000125338', NULL, 'France', 'Europe', NULL, NULL, NULL, NULL, 'Electricity Utilities', 10283015131.798985, 3087133686.0634212, 4800604056.581685, 343642.4737086049, 1163119848.4230556, 0.4285714285714285)\n",
      "  ...\n",
      "  ('Company AG', 'US0079031078', NULL, 'United States', 'North America', NULL, NULL, NULL, NULL, 'Electricity Utilities', NULL, NULL, NULL, NULL, NULL, NULL)\n",
      "batch insert result: [(35,)]\n"
     ]
    }
   ],
   "source": [
    "# generate a sql schema that will correspond to the data types\n",
    "# of columns in the pandas DF\n",
    "\n",
    "df.to_sql(\n",
    "    tablename,\n",
    "    engine,\n",
    "    schema=ingest_schema,\n",
    "    if_exists=\"append\",\n",
    "    index=False,\n",
    "    method=osc.TrinoBatchInsert(batch_size=15000, verbose=True),\n",
    ")"
   ]
  },
  {
   "cell_type": "code",
   "execution_count": 11,
   "id": "73d62dec-c965-439d-90f2-0ea7fd7f87dd",
   "metadata": {},
   "outputs": [
    {
     "name": "stdout",
     "output_type": "stream",
     "text": [
      "select country from osc_datacommons_dev.demo_dv.itr_fundamental_data\n",
      "[('United States',), ('United States',), ('France',), ('United States',), ('Switzerland',), ('United States of America',), ('France',), ('United States of America',), ('Taiwan, Province of China',), ('France',), ('Switzerland',), ('Japan',), ('Japan',), ('United States of America',), ('United Kingdom',), ('United States of America',), ('United States of America',), ('Japan',), ('Netherlands',), ('Italy',), ('Sweden',), ('Sweden',), ('United States of America',), ('China',), ('China',), ('China',), ('Brazil',), ('Brazil',), ('Brazil',), ('Argentinia',), (None,), (None,), (None,), (None,), ('United States',)]\n"
     ]
    }
   ],
   "source": [
    "# test that we can get data\n",
    "qres = osc._do_sql(\n",
    "    f\"select country from {ingest_catalog}.{ingest_schema}.{tablename}\",\n",
    "    engine,\n",
    "    verbose=True,\n",
    ")"
   ]
  },
  {
   "cell_type": "markdown",
   "id": "9d6eec25-1d04-467e-bde1-73b504f9ab15",
   "metadata": {},
   "source": [
    "## ITR Projected Production"
   ]
  },
  {
   "cell_type": "code",
   "execution_count": 12,
   "id": "55c5322a-edb5-47d5-9af1-fbb50b42d493",
   "metadata": {},
   "outputs": [],
   "source": [
    "# this will be output trino table name\n",
    "tablename = f\"{itr_prefix}projected_production\"\n",
    "\n",
    "# get this sheet, and assess data types\n",
    "df = pd.read_excel(xls, \"projected_production\").convert_dtypes()\n",
    "\n",
    "# rename columns to forms that sql will handle\n",
    "osc.enforce_sql_column_names(df, inplace=True)\n",
    "df.rename(columns=rename_year_columns, inplace=True)"
   ]
  },
  {
   "cell_type": "code",
   "execution_count": 13,
   "id": "d402734d-0015-4d7f-85ba-9f70b31da371",
   "metadata": {},
   "outputs": [
    {
     "name": "stdout",
     "output_type": "stream",
     "text": [
      "<class 'pandas.core.frame.DataFrame'>\n",
      "RangeIndex: 30 entries, 0 to 29\n",
      "Data columns (total 44 columns):\n",
      " #   Column      Non-Null Count  Dtype  \n",
      "---  ------      --------------  -----  \n",
      " 0   company_id  30 non-null     string \n",
      " 1   variable    30 non-null     string \n",
      " 2   y2009       5 non-null      Float64\n",
      " 3   y2010       13 non-null     Float64\n",
      " 4   y2011       13 non-null     Float64\n",
      " 5   y2012       14 non-null     Float64\n",
      " 6   y2013       17 non-null     Float64\n",
      " 7   y2014       24 non-null     Float64\n",
      " 8   y2015       24 non-null     Float64\n",
      " 9   y2016       24 non-null     Float64\n",
      " 10  y2017       26 non-null     Float64\n",
      " 11  y2018       26 non-null     Float64\n",
      " 12  y2019       26 non-null     Float64\n",
      " 13  y2020       26 non-null     Float64\n",
      " 14  y2021       26 non-null     Float64\n",
      " 15  y2022       26 non-null     Float64\n",
      " 16  y2023       26 non-null     Float64\n",
      " 17  y2024       26 non-null     Float64\n",
      " 18  y2025       26 non-null     Float64\n",
      " 19  y2026       26 non-null     Float64\n",
      " 20  y2027       26 non-null     Float64\n",
      " 21  y2028       26 non-null     Float64\n",
      " 22  y2029       26 non-null     Float64\n",
      " 23  y2030       26 non-null     Float64\n",
      " 24  y2031       26 non-null     Float64\n",
      " 25  y2032       26 non-null     Float64\n",
      " 26  y2033       26 non-null     Float64\n",
      " 27  y2034       26 non-null     Float64\n",
      " 28  y2035       26 non-null     Float64\n",
      " 29  y2036       26 non-null     Float64\n",
      " 30  y2037       26 non-null     Float64\n",
      " 31  y2038       26 non-null     Float64\n",
      " 32  y2039       26 non-null     Float64\n",
      " 33  y2040       26 non-null     Float64\n",
      " 34  y2041       26 non-null     Float64\n",
      " 35  y2042       26 non-null     Float64\n",
      " 36  y2043       26 non-null     Float64\n",
      " 37  y2044       26 non-null     Float64\n",
      " 38  y2045       26 non-null     Float64\n",
      " 39  y2046       26 non-null     Float64\n",
      " 40  y2047       26 non-null     Float64\n",
      " 41  y2048       26 non-null     Float64\n",
      " 42  y2049       26 non-null     Float64\n",
      " 43  y2050       26 non-null     Float64\n",
      "dtypes: Float64(42), string(2)\n",
      "memory usage: 11.7 KB\n"
     ]
    }
   ],
   "source": [
    "# a way to examine the structure of a pandas data frame\n",
    "df.info(verbose=True)"
   ]
  },
  {
   "cell_type": "code",
   "execution_count": 14,
   "id": "c5b8bc49-694b-4d0a-a42c-cd053028afd0",
   "metadata": {},
   "outputs": [
    {
     "name": "stdout",
     "output_type": "stream",
     "text": [
      "drop table if exists osc_datacommons_dev.demo_dv.itr_projected_production\n"
     ]
    }
   ],
   "source": [
    "# For this demonstration example, we just recreate table from scratch each time.\n",
    "# in live data platform there will need to be policies and mechanisms for either\n",
    "# appending new data, or overwriting old data, or saving off conditioned by a versioning number\n",
    "# this is a data governance topic\n",
    "osc._do_sql(\n",
    "    f\"drop table if exists {ingest_catalog}.{ingest_schema}.{tablename}\",\n",
    "    engine,\n",
    "    verbose=True,\n",
    ")"
   ]
  },
  {
   "cell_type": "code",
   "execution_count": 15,
   "id": "80247c1a-88bb-4430-9335-6f02ffaf4438",
   "metadata": {},
   "outputs": [
    {
     "name": "stdout",
     "output_type": "stream",
     "text": [
      "constructed fully qualified table name as: \"demo_dv.itr_projected_production\"\n",
      "inserting 30 records\n",
      "  ('US0079031078', 'Electricity_prod_complete', NULL, NULL, NULL, NULL, NULL, 467435849.836039, 319287605.836039, 375523565.836039, 241767187.636039, 108010809.436039, 104827858.636039, 96880847.84303102, 98800366.55109683, 100757917.04927026, 102754252.86865924, 104790142.47022723, 106866369.54060121, 110273028.01906781, 113788283.07509942, 117415596.52229828, 121158540.5290649, 125020801.13645986, 127708032.7692642, 130453024.5010497, 133257017.8433383, 136121280.99304354, 139047109.40605375, 143803518.1276373, 148722630.1518885, 153810011.09905753, 159071416.97353712, 164512800.67636612, 166864178.74843603, 169249165.01886547, 171668239.84894145, 174121890.46574494, 176610611.06028363, 177180531.38617307, 177752290.83812582, 178325895.3509797, 178901350.87872407, 179478663.39456186)\n",
      "  ('US00724F1012', 'Electricity_prod_complete', NULL, 595461601.492059, 587480044.192059, 579498486.892059, 571516929.592059, 563535372.292059, 523856381.092059, 461561937.892059, 691152099.892059, 682667227.492059, 598937001.892059, 553531525.9021901, 564498751.5523515, 575683272.9351552, 587089395.3723782, 598721509.4879587, 610584092.8981038, 630048134.6338708, 650132646.0561203, 670857406.3369826, 692242825.1639197, 714309962.8391299, 729663538.4867013, 745347128.1301978, 761367825.1816041, 777732875.5206616, 794449680.7720519, 821625559.5560443, 849731048.3651356, 878797946.5315802, 908859141.1529373, 939948644.3014475, 953383310.917027, 967009998.9458678, 980831452.946075, 994850456.7036664, 1009069833.793256, 1012326090.0570676, 1015592854.2208288, 1018870160.1934067, 1022158041.9930922, 1025456533.7479526)\n",
      "  ('FR0000125338', 'Electricity_prod_complete', NULL, 991800002.661096, 976320002.661096, 947520002.661096, 987840002.661096, 870120002.661096, 163080002.661096, 152928002.661096, 142776002.661096, 132624002.661096, 122472002.661096, 112320002.661096, 115218007.84781621, 118190785.41579783, 121240264.59174655, 124368424.37897837, 127577294.8417222, 132683100.69004841, 137993247.39223224, 143515912.92953572, 149259602.57644817, 155233161.99937806, 160967208.59143803, 166913061.02379936, 173078543.04070017, 179471767.38206357, 186101146.45850232, 189581602.05887806, 193127148.9895154, 196739004.5856605, 200418408.94911078, 204166625.37399387, 206625925.4867722, 209114849.23188335, 211633753.4423905, 214182999.24960884, 216762952.13488024, 218141586.7964727, 219528989.7162542, 220925216.66124836, 222330323.75316274, 223744367.47064474)\n",
      "  ...\n",
      "  ('AR0000000013', 'Steel_prod_complete', NULL, NULL, NULL, NULL, NULL, NULL, NULL, NULL, NULL, NULL, NULL, NULL, NULL, NULL, NULL, NULL, NULL, NULL, NULL, NULL, NULL, NULL, NULL, NULL, NULL, NULL, NULL, NULL, NULL, NULL, NULL, NULL, NULL, NULL, NULL, NULL, NULL, NULL, NULL, NULL, NULL, NULL)\n",
      "batch insert result: [(30,)]\n"
     ]
    }
   ],
   "source": [
    "# generate a sql schema that will correspond to the data types\n",
    "# of columns in the pandas DF\n",
    "\n",
    "df.to_sql(\n",
    "    tablename,\n",
    "    engine,\n",
    "    schema=ingest_schema,\n",
    "    if_exists=\"append\",\n",
    "    index=False,\n",
    "    method=osc.TrinoBatchInsert(batch_size=15000, verbose=True),\n",
    ")"
   ]
  },
  {
   "cell_type": "code",
   "execution_count": 16,
   "id": "b543d1b3-dba9-4d92-a442-0dd65a14f1c9",
   "metadata": {},
   "outputs": [
    {
     "name": "stdout",
     "output_type": "stream",
     "text": [
      "select y2020 from osc_datacommons_dev.demo_dv.itr_projected_production\n",
      "[(96880847.84303102,), (553531525.9021901,), (112320002.661096,), (92429383.29377028,), (745588806.472471,), (199591200.376334,), (444466802.585938,), (1360143531.0659223,), (19526537.978397347,), (934632000.90193,), (65804401.1549344,), (288420004.281372,), (44045949.40149568,), (528390001.129387,), (224471679.66002035,), (71500001.3960884,), (None,), (None,), (12194000.4760821,), (23652554.82218139,), (28090000.2335485,), (12819451.062523922,), (22329000.8292913,), (47050001.3676141,), (15752804.700495042,), (None,), (11314001.9224849,), (14473000.0778486,), (30630004.3464472,), (None,)]\n"
     ]
    }
   ],
   "source": [
    "# test that we can get data\n",
    "qres = osc._do_sql(\n",
    "    f\"select y2020 from {ingest_catalog}.{ingest_schema}.{tablename}\",\n",
    "    engine,\n",
    "    verbose=True,\n",
    ")"
   ]
  },
  {
   "cell_type": "markdown",
   "id": "433b4a6a-7e4f-422d-b694-31f27b1b97d4",
   "metadata": {},
   "source": [
    "## ITR Projected Target"
   ]
  },
  {
   "cell_type": "code",
   "execution_count": 17,
   "id": "b550aacf-7100-44cf-83db-f6e64accb629",
   "metadata": {},
   "outputs": [],
   "source": [
    "tablename = f\"{itr_prefix}projected_target\"\n",
    "\n",
    "# get this sheet, and assess data types\n",
    "df = pd.read_excel(xls, \"projected_target\").convert_dtypes()\n",
    "\n",
    "# rename columns to forms that sql will handle\n",
    "osc.enforce_sql_column_names(df, inplace=True)\n",
    "df.rename(columns=rename_year_columns, inplace=True)"
   ]
  },
  {
   "cell_type": "code",
   "execution_count": 18,
   "id": "7ba24f53-45a7-490b-8389-29a058353b1d",
   "metadata": {
    "tags": []
   },
   "outputs": [
    {
     "name": "stdout",
     "output_type": "stream",
     "text": [
      "drop table if exists osc_datacommons_dev.demo_dv.itr_projected_target\n"
     ]
    }
   ],
   "source": [
    "# For this demonstration example, we just recreate table from scratch each time.\n",
    "# in live data platform there will need to be policies and mechanisms for either\n",
    "# appending new data, or overwriting old data, or saving off conditioned by a versioning number\n",
    "# this is a data governance topic\n",
    "osc._do_sql(\n",
    "    f\"drop table if exists {ingest_catalog}.{ingest_schema}.{tablename}\",\n",
    "    engine,\n",
    "    verbose=True,\n",
    ")"
   ]
  },
  {
   "cell_type": "code",
   "execution_count": 19,
   "id": "62f187cd-c5f2-4127-94cd-2f030222726b",
   "metadata": {},
   "outputs": [
    {
     "name": "stdout",
     "output_type": "stream",
     "text": [
      "constructed fully qualified table name as: \"demo_dv.itr_projected_target\"\n",
      "inserting 60 records\n",
      "  ('US0079031078', 'Intensity_scope1_complete', NULL, NULL, NULL, NULL, NULL, 0.170354939322627, 0.220299831720245, 0.187623393698818, 0.266897284395678, 0.501375798577897, 0.468310680717861, 0.468310680717861, 0.42928479065803926, 0.3902589005982175, 0.3785511335802709, 0.3668433665623244, 0.3551355995443779, 0.34342783252643133, 0.3317200655084848, 0.32001229849053825, 0.30830453147259174, 0.2965967644546452, 0.2831099480008877, 0.27544668915086834, 0.267220580884889, 0.25800218182173723, 0.24748360557364565, 0.23562865116810308, 0.2227383155461044, 0.2093270172783255, 0.19590974950985224, 0.18286671115048947, 0.17042259810933935, 0.15868382409266663, 0.14768299945780478, 0.13741184379498675, 0.12784145702501398, 0.11893370882207119, 0.11064730250250693, 0.10294087337164555, 0.09577449761700338, 0.08911036813081348)\n",
      "  ('US0079031078', 'Intensity_scope2_complete', NULL, NULL, NULL, NULL, NULL, 0.000620418472697195, 0.00115195776258245, 0.00081487785023004, 0.000934807730730706, 0.00333305377414448, 0.00342471782511225, 0.00342471782511225, 0.00342471782511225, 0.0035137141592254057, 0.0036015971259246997, 0.0036863118623299647, 0.0037652022358886108, 0.003835630250423419, 0.0038959344219526995, 0.0039457001057102035, 0.003984681699441231, 0.004011050149923224, 0.004019727960085558, 0.004000886210178763, 0.003939011363519434, 0.00381449054641643, 0.003610650931456396, 0.003325435071958157, 0.0029782925542371644, 0.002603128878662647, 0.0022332110019498454, 0.0018911898214325408, 0.0015879960288988368, 0.001326225890100295, 0.0011038569356677328, 0.000916820581249862, 0.0007604542500618067, 0.0006302175314994154, 0.0005219975730154213, 0.0004322054550683342, 0.0003577739811613646, 0.00029611350252800795)\n",
      "  ('US00724F1012', 'Intensity_scope1_complete', NULL, 0.232248059565103, 0.230937548999887, 0.210401587320745, 0.201743807614516, 0.217732563961342, 0.195664317915498, 0.201489754369235, 0.11395526614816, 0.11039236169124, 0.108152124993829, 0.108152124993829, 0.1052680683273269, 0.1023840116608248, 0.0994999549943227, 0.0966158983278206, 0.09373184166131848, 0.09084778499481638, 0.08796372832831428, 0.08507967166181218, 0.08219561499531008, 0.07931155832880799, 0.07534598041236758, 0.07138040249592717, 0.06741482457948678, 0.06344924666304637, 0.05948366874660596, 0.05551809083016556, 0.05155251291372516, 0.047586934997284766, 0.043621357080844365, 0.039655779164403965, 0.03569020124796357, 0.03172462333152317, 0.027759045415082773, 0.023793467498642376, 0.01982788958220198, 0.01586231166576158, 0.011896733749321181, 0.00793115583288078, 0.0039655779164403816, 0.0)\n",
      "  ...\n",
      "  ('AR0000000013', 'Intensity_scope2_complete', NULL, NULL, NULL, NULL, NULL, NULL, NULL, NULL, NULL, NULL, NULL, NULL, NULL, NULL, NULL, NULL, NULL, NULL, NULL, NULL, NULL, NULL, NULL, NULL, NULL, NULL, NULL, NULL, NULL, NULL, NULL, NULL, NULL, NULL, NULL, NULL, NULL, NULL, NULL, NULL, NULL, NULL)\n",
      "batch insert result: [(60,)]\n"
     ]
    }
   ],
   "source": [
    "# generate a sql schema that will correspond to the data types\n",
    "# of columns in the pandas DF\n",
    "\n",
    "df.to_sql(\n",
    "    tablename,\n",
    "    engine,\n",
    "    schema=ingest_schema,\n",
    "    if_exists=\"append\",\n",
    "    index=False,\n",
    "    method=osc.TrinoBatchInsert(batch_size=15000, verbose=True),\n",
    ")"
   ]
  },
  {
   "cell_type": "markdown",
   "id": "843db460-6b07-4ba3-8712-47a69edc36e0",
   "metadata": {},
   "source": [
    "## ITR Projected ei in Wh"
   ]
  },
  {
   "cell_type": "code",
   "execution_count": 20,
   "id": "7cf42319-4734-4a84-ae01-a36647d47c1d",
   "metadata": {},
   "outputs": [],
   "source": [
    "tablename = f\"{itr_prefix}projected_ei_in_wh\"\n",
    "\n",
    "# get this sheet, and assess data types\n",
    "df = pd.read_excel(xls, \"projected_ei_in_Wh\").convert_dtypes()\n",
    "\n",
    "# rename columns to forms that sql will handle\n",
    "osc.enforce_sql_column_names(df, inplace=True)\n",
    "df.rename(columns=rename_year_columns, inplace=True)"
   ]
  },
  {
   "cell_type": "code",
   "execution_count": 21,
   "id": "b8b73f2a-cc69-405f-99a1-fbaae1f55664",
   "metadata": {
    "tags": []
   },
   "outputs": [
    {
     "name": "stdout",
     "output_type": "stream",
     "text": [
      "drop table if exists osc_datacommons_dev.demo_dv.itr_projected_ei_in_wh\n"
     ]
    }
   ],
   "source": [
    "# For this demonstration example, we just recreate table from scratch each time.\n",
    "# in live data platform there will need to be policies and mechanisms for either\n",
    "# appending new data, or overwriting old data, or saving off conditioned by a versioning number\n",
    "# this is a data governance topic\n",
    "osc._do_sql(\n",
    "    f\"drop table if exists {ingest_catalog}.{ingest_schema}.{tablename}\",\n",
    "    engine,\n",
    "    verbose=True,\n",
    ")"
   ]
  },
  {
   "cell_type": "code",
   "execution_count": 22,
   "id": "1bcd2b03-f2df-4edf-9fd4-69a190194403",
   "metadata": {},
   "outputs": [
    {
     "name": "stdout",
     "output_type": "stream",
     "text": [
      "constructed fully qualified table name as: \"demo_dv.itr_projected_ei_in_wh\"\n",
      "inserting 60 records\n",
      "  ('US0079031078', 'Intensity_scope1_complete', NULL, NULL, NULL, NULL, NULL, 0.170354939322627, 0.220299831720245, 0.187623393698818, 0.266897284395678, 0.501375798577897, 0.468310680717861, 0.468310680717861, 0.4384721079520032, 0.4111273932967205, 0.3863680753691475, 0.3643764337472672, 0.34537391807885887, 0.3294679702931648, 0.3164614050737526, 0.3058131940431168, 0.29681299030155467, 0.28878409012681017, 0.2811605800076067, 0.27346012212033577, 0.26523573184196947, 0.25607444019517955, 0.24568278207156138, 0.23402634921052445, 0.22138889013283639, 0.20825467980986892, 0.19510921053287353, 0.18231281067794972, 0.17008088864527465, 0.15851804007011908, 0.14765913625607005, 0.13749990482375027, 0.12801589692682325, 0.11917324380611401, 0.11093445963123792, 0.10326146613042127, 0.09611711472809159, 0.0894659114849519)\n",
      "  ('US0079031078', 'Intensity_scope2_complete', NULL, NULL, NULL, NULL, NULL, 0.000620418472697195, 0.00115195776258245, 0.00081487785023004, 0.000934807730730706, 0.00333305377414448, 0.00342471782511225, 0.00342471782511225, 0.00342471782511225, 0.0035137141592254057, 0.0036015971259246997, 0.0036863118623299647, 0.0037652022358886108, 0.003835630250423419, 0.0038959344219526995, 0.0039457001057102035, 0.003984681699441231, 0.004011050149923224, 0.004019727960085558, 0.004000886210178763, 0.003939011363519434, 0.00381449054641643, 0.003610650931456396, 0.003325435071958157, 0.0029782925542371644, 0.002603128878662647, 0.0022332110019498454, 0.0018911898214325408, 0.0015879960288988368, 0.001326225890100295, 0.0011038569356677328, 0.000916820581249862, 0.0007604542500618067, 0.0006302175314994154, 0.0005219975730154213, 0.0004322054550683342, 0.0003577739811613646, 0.00029611350252800795)\n",
      "  ('US00724F1012', 'Intensity_scope1_complete', NULL, 0.232248059565103, 0.230937548999887, 0.210401587320745, 0.201743807614516, 0.217732563961342, 0.195664317915498, 0.201489754369235, 0.11395526614816, 0.11039236169124, 0.108152124993829, 0.108152124993829, 0.10484898498953686, 0.10169136765627901, 0.09869735729729015, 0.09589440402579073, 0.09331586037478266, 0.0909870872481402, 0.08890498087505128, 0.08702887435786735, 0.08529236334009094, 0.08362037352039224, 0.08193465389372266, 0.08014784806913361, 0.0781560714125701, 0.0758437578207477, 0.0731143167573815, 0.06994112604216507, 0.06639783050948268, 0.06263089490738362, 0.05879791625003525, 0.05502288969550135, 0.05138500052904047, 0.04792682762604589, 0.04466668338340113, 0.041608517723462586, 0.03874838483556724, 0.036078281877457, 0.03358831939536381, 0.03126791486102418, 0.029106435223944297, 0.027093533847900943)\n",
      "  ...\n",
      "  ('AR0000000013', 'Intensity_scope2_complete', NULL, NULL, NULL, NULL, NULL, NULL, NULL, NULL, NULL, NULL, NULL, NULL, NULL, NULL, NULL, NULL, NULL, NULL, NULL, NULL, NULL, NULL, NULL, NULL, NULL, NULL, NULL, NULL, NULL, NULL, NULL, NULL, NULL, NULL, NULL, NULL, NULL, NULL, NULL, NULL, NULL, NULL)\n",
      "batch insert result: [(60,)]\n"
     ]
    }
   ],
   "source": [
    "# generate a sql schema that will correspond to the data types\n",
    "# of columns in the pandas DF\n",
    "\n",
    "df.to_sql(\n",
    "    tablename,\n",
    "    engine,\n",
    "    schema=ingest_schema,\n",
    "    if_exists=\"append\",\n",
    "    index=False,\n",
    "    method=osc.TrinoBatchInsert(batch_size=15000, verbose=True),\n",
    ")"
   ]
  },
  {
   "cell_type": "code",
   "execution_count": null,
   "id": "e205b32d-1c1c-4987-9aa3-992fb182d5c0",
   "metadata": {},
   "outputs": [],
   "source": []
  }
 ],
 "metadata": {
  "kernelspec": {
   "display_name": "Python 3 (ipykernel)",
   "language": "python",
   "name": "python3"
  },
  "language_info": {
   "codemirror_mode": {
    "name": "ipython",
    "version": 3
   },
   "file_extension": ".py",
   "mimetype": "text/x-python",
   "name": "python",
   "nbconvert_exporter": "python",
   "pygments_lexer": "ipython3",
   "version": "3.11.4"
  }
 },
 "nbformat": 4,
 "nbformat_minor": 5
}
